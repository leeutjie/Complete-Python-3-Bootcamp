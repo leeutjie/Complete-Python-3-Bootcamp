{
 "cells": [
  {
   "cell_type": "markdown",
   "source": [
    "___\n",
    "\n",
    "<a href='https://www.udemy.com/user/joseportilla/'><img src='../Pierian_Data_Logo.png'/></a>\n",
    "___\n",
    "<center><em>Content Copyright by Pierian Data</em></center>"
   ],
   "metadata": {}
  },
  {
   "cell_type": "markdown",
   "source": [
    "# Function Practice Exercises\r\n",
    "\r\n",
    "Problems are arranged in increasing difficulty:\r\n",
    "* Warmup - these can be solved using basic comparisons and methods\r\n",
    "* Level 1 - these may involve if/then conditional statements and simple methods\r\n",
    "* Level 2 - these may require iterating over sequences, usually with some kind of loop\r\n",
    "* Challenging - these will take some creativity to solve"
   ],
   "metadata": {}
  },
  {
   "cell_type": "markdown",
   "source": [
    "## WARMUP SECTION:"
   ],
   "metadata": {}
  },
  {
   "cell_type": "markdown",
   "source": [
    "#### LESSER OF TWO EVENS: Write a function that returns the lesser of two given numbers *if* both numbers are even, but returns the greater if one or both numbers are odd\n",
    "    lesser_of_two_evens(2,4) --> 2\n",
    "    lesser_of_two_evens(2,5) --> 5"
   ],
   "metadata": {}
  },
  {
   "cell_type": "code",
   "execution_count": 109,
   "source": [
    "# def lesser_of_two_evens(a,b):\r\n",
    "#     if a%2 == 0 and b%2 == 0:\r\n",
    "#        lesser = min(a,b)\r\n",
    "#        return(lesser)\r\n",
    "#     else:\r\n",
    "#         greater = max(a,b)\r\n",
    "#         return(greater)\r\n",
    "#     pass\r\n",
    "    \r\n",
    "def lesser_of_two_evens(a,b):\r\n",
    "    if a%2 == 0 and b%2 == 0:\r\n",
    "        return min(a, b)\r\n",
    "    else:\r\n",
    "        return max(a, b)\r\n",
    "    "
   ],
   "outputs": [],
   "metadata": {
    "collapsed": true
   }
  },
  {
   "cell_type": "code",
   "execution_count": 110,
   "source": [
    "# Check\r\n",
    "lesser_of_two_evens(2,4)"
   ],
   "outputs": [
    {
     "output_type": "execute_result",
     "data": {
      "text/plain": [
       "2"
      ]
     },
     "metadata": {},
     "execution_count": 110
    }
   ],
   "metadata": {
    "collapsed": true
   }
  },
  {
   "cell_type": "code",
   "execution_count": 111,
   "source": [
    "# Check\r\n",
    "lesser_of_two_evens(1,5)"
   ],
   "outputs": [
    {
     "output_type": "execute_result",
     "data": {
      "text/plain": [
       "5"
      ]
     },
     "metadata": {},
     "execution_count": 111
    }
   ],
   "metadata": {
    "collapsed": true
   }
  },
  {
   "cell_type": "markdown",
   "source": [
    "#### ANIMAL CRACKERS: Write a function takes a two-word string and returns True if both words begin with same letter\n",
    "    animal_crackers('Levelheaded Llama') --> True\n",
    "    animal_crackers('Crazy Kangaroo') --> False"
   ],
   "metadata": {}
  },
  {
   "cell_type": "code",
   "execution_count": 112,
   "source": [
    "def animal_crackers(text):\r\n",
    "    word_list = text.split()\r\n",
    "    return word_list[0][0] == word_list[1][0]"
   ],
   "outputs": [],
   "metadata": {
    "collapsed": true
   }
  },
  {
   "cell_type": "code",
   "execution_count": 113,
   "source": [
    "# Check\r\n",
    "animal_crackers('Levelheaded Llama')"
   ],
   "outputs": [
    {
     "output_type": "execute_result",
     "data": {
      "text/plain": [
       "True"
      ]
     },
     "metadata": {},
     "execution_count": 113
    }
   ],
   "metadata": {
    "collapsed": true
   }
  },
  {
   "cell_type": "code",
   "execution_count": 114,
   "source": [
    "# Check\r\n",
    "animal_crackers('Crazy Kangaroo')"
   ],
   "outputs": [
    {
     "output_type": "execute_result",
     "data": {
      "text/plain": [
       "False"
      ]
     },
     "metadata": {},
     "execution_count": 114
    }
   ],
   "metadata": {
    "collapsed": true
   }
  },
  {
   "cell_type": "markdown",
   "source": [
    "#### MAKES TWENTY: Given two integers, return True if the sum of the integers is 20 *or* if one of the integers is 20. If not, return False\n",
    "\n",
    "    makes_twenty(20,10) --> True\n",
    "    makes_twenty(12,8) --> True\n",
    "    makes_twenty(2,3) --> False"
   ],
   "metadata": {}
  },
  {
   "cell_type": "code",
   "execution_count": 26,
   "source": [
    "# def makes_twenty(n1,n2):\r\n",
    "#     if n1 == 20 or n2 == 20 or n1 + n2 == 20:\r\n",
    "#         result = True\r\n",
    "#     else: result = False\r\n",
    "#     return(result)\r\n",
    "\r\n",
    "def makes_twenty(n1,n2):\r\n",
    "    return (n1+n2)==20 or n1==20 or n2==20"
   ],
   "outputs": [],
   "metadata": {
    "collapsed": true
   }
  },
  {
   "cell_type": "code",
   "execution_count": 27,
   "source": [
    "# Check\r\n",
    "makes_twenty(20,10)"
   ],
   "outputs": [
    {
     "output_type": "execute_result",
     "data": {
      "text/plain": [
       "True"
      ]
     },
     "metadata": {},
     "execution_count": 27
    }
   ],
   "metadata": {
    "collapsed": true
   }
  },
  {
   "cell_type": "code",
   "execution_count": 28,
   "source": [
    "# Check\r\n",
    "makes_twenty(2,3)"
   ],
   "outputs": [
    {
     "output_type": "execute_result",
     "data": {
      "text/plain": [
       "False"
      ]
     },
     "metadata": {},
     "execution_count": 28
    }
   ],
   "metadata": {
    "collapsed": true
   }
  },
  {
   "cell_type": "markdown",
   "source": [
    "# LEVEL 1 PROBLEMS"
   ],
   "metadata": {}
  },
  {
   "cell_type": "markdown",
   "source": [
    "#### OLD MACDONALD: Write a function that capitalizes the first and fourth letters of a name\n",
    "     \n",
    "    old_macdonald('macdonald') --> MacDonald\n",
    "    \n",
    "Note: `'macdonald'.capitalize()` returns `'Macdonald'`"
   ],
   "metadata": {}
  },
  {
   "cell_type": "code",
   "execution_count": 115,
   "source": [
    "# def old_macdonald(name):\r\n",
    "#     counter = 0\r\n",
    "#     namer = ''\r\n",
    "#     for i in name:\r\n",
    "#         counter = counter + 1\r\n",
    "#         if counter == 1 or counter == 4:\r\n",
    "#             i = i.upper()\r\n",
    "#         pass\r\n",
    "#         namer = namer + i\r\n",
    "#     return(namer)\r\n",
    "\r\n",
    "def old_macdonald(name):\r\n",
    "    if len(name) > 3:\r\n",
    "        return name[:3].capitalize() + name[3:].capitalize()\r\n",
    "    else:\r\n",
    "        return 'Name is too short!'"
   ],
   "outputs": [
    {
     "output_type": "execute_result",
     "data": {
      "text/plain": [
       "'Mac'"
      ]
     },
     "metadata": {},
     "execution_count": 115
    }
   ],
   "metadata": {
    "collapsed": true
   }
  },
  {
   "cell_type": "code",
   "execution_count": 30,
   "source": [
    "# Check\r\n",
    "old_macdonald('macdonald')"
   ],
   "outputs": [
    {
     "output_type": "execute_result",
     "data": {
      "text/plain": [
       "'MacDonald'"
      ]
     },
     "metadata": {},
     "execution_count": 30
    }
   ],
   "metadata": {
    "collapsed": true
   }
  },
  {
   "cell_type": "markdown",
   "source": [
    "#### MASTER YODA: Given a sentence, return a sentence with the words reversed\n",
    "\n",
    "    master_yoda('I am home') --> 'home am I'\n",
    "    master_yoda('We are ready') --> 'ready are We'\n",
    "    \n",
    "Note: The .join() method may be useful here. The .join() method allows you to join together strings in a list with some connector string. For example, some uses of the .join() method:\n",
    "\n",
    "    >>> \"--\".join(['a','b','c'])\n",
    "    >>> 'a--b--c'\n",
    "\n",
    "This means if you had a list of words you wanted to turn back into a sentence, you could just join them with a single space string:\n",
    "\n",
    "    >>> \" \".join(['Hello','world'])\n",
    "    >>> \"Hello world\""
   ],
   "metadata": {}
  },
  {
   "cell_type": "code",
   "execution_count": 31,
   "source": [
    "# def master_yoda(text):\r\n",
    "#     sentence = text.split()\r\n",
    "#     sentence.reverse()\r\n",
    "#     sentence = ' '.join(sentence)\r\n",
    "#     return(sentence)\r\n",
    "\r\n",
    "def master_yoda(text):\r\n",
    "    return ' '.join(text.split()[::-1])"
   ],
   "outputs": [],
   "metadata": {
    "collapsed": true
   }
  },
  {
   "cell_type": "code",
   "execution_count": 32,
   "source": [
    "# Check\r\n",
    "master_yoda('I am home')"
   ],
   "outputs": [
    {
     "output_type": "execute_result",
     "data": {
      "text/plain": [
       "'home am I'"
      ]
     },
     "metadata": {},
     "execution_count": 32
    }
   ],
   "metadata": {
    "collapsed": true
   }
  },
  {
   "cell_type": "code",
   "execution_count": 33,
   "source": [
    "# Check\r\n",
    "master_yoda('We are ready')"
   ],
   "outputs": [
    {
     "output_type": "execute_result",
     "data": {
      "text/plain": [
       "'ready are We'"
      ]
     },
     "metadata": {},
     "execution_count": 33
    }
   ],
   "metadata": {
    "collapsed": true
   }
  },
  {
   "cell_type": "markdown",
   "source": [
    "#### ALMOST THERE: Given an integer n, return True if n is within 10 of either 100 or 200\n",
    "\n",
    "    almost_there(90) --> True\n",
    "    almost_there(104) --> True\n",
    "    almost_there(150) --> False\n",
    "    almost_there(209) --> True\n",
    "    \n",
    "NOTE: `abs(num)` returns the absolute value of a number"
   ],
   "metadata": {}
  },
  {
   "cell_type": "code",
   "execution_count": 34,
   "source": [
    "# def almost_there(n):\r\n",
    "#     if abs(n - 100) < 10 or abs(n - 200) < 10:\r\n",
    "#         return True\r\n",
    "#     else: return False\r\n",
    "\r\n",
    "return ((abs(100 - n) <= 10) or (abs(200 - n) <= 10))"
   ],
   "outputs": [],
   "metadata": {
    "collapsed": true
   }
  },
  {
   "cell_type": "code",
   "execution_count": 35,
   "source": [
    "# Check\r\n",
    "almost_there(104)"
   ],
   "outputs": [
    {
     "output_type": "execute_result",
     "data": {
      "text/plain": [
       "True"
      ]
     },
     "metadata": {},
     "execution_count": 35
    }
   ],
   "metadata": {
    "collapsed": true
   }
  },
  {
   "cell_type": "code",
   "execution_count": 36,
   "source": [
    "# Check\r\n",
    "almost_there(150)"
   ],
   "outputs": [
    {
     "output_type": "execute_result",
     "data": {
      "text/plain": [
       "False"
      ]
     },
     "metadata": {},
     "execution_count": 36
    }
   ],
   "metadata": {
    "collapsed": true
   }
  },
  {
   "cell_type": "code",
   "execution_count": 37,
   "source": [
    "# Check\r\n",
    "almost_there(209)"
   ],
   "outputs": [
    {
     "output_type": "execute_result",
     "data": {
      "text/plain": [
       "True"
      ]
     },
     "metadata": {},
     "execution_count": 37
    }
   ],
   "metadata": {
    "collapsed": true
   }
  },
  {
   "cell_type": "markdown",
   "source": [
    "# LEVEL 2 PROBLEMS"
   ],
   "metadata": {}
  },
  {
   "cell_type": "markdown",
   "source": [
    "#### FIND 33: \r\n",
    "\r\n",
    "Given a list of ints, return True if the array contains a 3 next to a 3 somewhere.\r\n",
    "\r\n",
    "    has_33([1, 3, 3]) → True\r\n",
    "    has_33([1, 3, 1, 3]) → False\r\n",
    "    has_33([3, 1, 3]) → False"
   ],
   "metadata": {}
  },
  {
   "cell_type": "code",
   "execution_count": 38,
   "source": [
    "def has_33(nums):\r\n",
    "    for i in range(len(nums) - 1):\r\n",
    "        if nums[i] == 3 and nums[i + 1] == 3:\r\n",
    "            return True\r\n",
    "    return False\r\n",
    "            "
   ],
   "outputs": [],
   "metadata": {
    "collapsed": true
   }
  },
  {
   "cell_type": "code",
   "execution_count": 39,
   "source": [
    "# Check\r\n",
    "has_33([1, 3, 3])"
   ],
   "outputs": [
    {
     "output_type": "execute_result",
     "data": {
      "text/plain": [
       "True"
      ]
     },
     "metadata": {},
     "execution_count": 39
    }
   ],
   "metadata": {
    "collapsed": true
   }
  },
  {
   "cell_type": "code",
   "execution_count": 40,
   "source": [
    "# Check\r\n",
    "has_33([1, 3, 1, 3])"
   ],
   "outputs": [
    {
     "output_type": "execute_result",
     "data": {
      "text/plain": [
       "False"
      ]
     },
     "metadata": {},
     "execution_count": 40
    }
   ],
   "metadata": {
    "collapsed": true
   }
  },
  {
   "cell_type": "code",
   "execution_count": 41,
   "source": [
    "# Check\r\n",
    "has_33([3, 1, 3])"
   ],
   "outputs": [
    {
     "output_type": "execute_result",
     "data": {
      "text/plain": [
       "False"
      ]
     },
     "metadata": {},
     "execution_count": 41
    }
   ],
   "metadata": {
    "collapsed": true
   }
  },
  {
   "cell_type": "markdown",
   "source": [
    "#### PAPER DOLL: Given a string, return a string where for every character in the original there are three characters\n",
    "    paper_doll('Hello') --> 'HHHeeellllllooo'\n",
    "    paper_doll('Mississippi') --> 'MMMiiissssssiiippppppiii'"
   ],
   "metadata": {}
  },
  {
   "cell_type": "code",
   "execution_count": 42,
   "source": [
    "def paper_doll(text):\r\n",
    "    word = ''\r\n",
    "    for i in text:\r\n",
    "        word = word + i*3\r\n",
    "    return(word)"
   ],
   "outputs": [],
   "metadata": {
    "collapsed": true
   }
  },
  {
   "cell_type": "code",
   "execution_count": 43,
   "source": [
    "# Check\r\n",
    "paper_doll('Hello')"
   ],
   "outputs": [
    {
     "output_type": "execute_result",
     "data": {
      "text/plain": [
       "'HHHeeellllllooo'"
      ]
     },
     "metadata": {},
     "execution_count": 43
    }
   ],
   "metadata": {
    "collapsed": true
   }
  },
  {
   "cell_type": "code",
   "execution_count": 44,
   "source": [
    "# Check\r\n",
    "paper_doll('Mississippi')"
   ],
   "outputs": [
    {
     "output_type": "execute_result",
     "data": {
      "text/plain": [
       "'MMMiiissssssiiissssssiiippppppiii'"
      ]
     },
     "metadata": {},
     "execution_count": 44
    }
   ],
   "metadata": {
    "collapsed": true
   }
  },
  {
   "cell_type": "markdown",
   "source": [
    "#### BLACKJACK: Given three integers between 1 and 11, if their sum is less than or equal to 21, return their sum. If their sum exceeds 21 *and* there's an eleven, reduce the total sum by 10. Finally, if the sum (even after adjustment) exceeds 21, return 'BUST'\n",
    "    blackjack(5,6,7) --> 18\n",
    "    blackjack(9,9,9) --> 'BUST'\n",
    "    blackjack(9,9,11) --> 19"
   ],
   "metadata": {}
  },
  {
   "cell_type": "code",
   "execution_count": 45,
   "source": [
    "# def blackjack(a,b,c):\r\n",
    "#     result = a + b + c\r\n",
    "#     for i in [a,b,c]:\r\n",
    "#         if i < 0 or i > 11:\r\n",
    "#             print('Enter a number between 1 and 11.')\r\n",
    "#             break\r\n",
    "#         elif result <= 21:\r\n",
    "#             return result\r\n",
    "#         elif result > 21 and 11 in [a,b,c]:\r\n",
    "#             result = result - 10\r\n",
    "\r\n",
    "#         if result > 21:\r\n",
    "#             return 'Bust'\r\n",
    "        \r\n",
    "def blackjack(a,b,c):\r\n",
    "    \r\n",
    "    if sum((a,b,c)) <= 21:\r\n",
    "        return sum((a,b,c))\r\n",
    "    elif sum((a,b,c)) <=31 and 11 in (a,b,c):\r\n",
    "        return sum((a,b,c)) - 10\r\n",
    "    else:\r\n",
    "        return 'BUST'"
   ],
   "outputs": [],
   "metadata": {
    "collapsed": true
   }
  },
  {
   "cell_type": "code",
   "execution_count": 46,
   "source": [
    "# Check\r\n",
    "blackjack(5,6,7)"
   ],
   "outputs": [
    {
     "output_type": "execute_result",
     "data": {
      "text/plain": [
       "18"
      ]
     },
     "metadata": {},
     "execution_count": 46
    }
   ],
   "metadata": {
    "collapsed": true
   }
  },
  {
   "cell_type": "code",
   "execution_count": 47,
   "source": [
    "# Check\r\n",
    "blackjack(9,9,9)"
   ],
   "outputs": [
    {
     "output_type": "execute_result",
     "data": {
      "text/plain": [
       "'Bust'"
      ]
     },
     "metadata": {},
     "execution_count": 47
    }
   ],
   "metadata": {
    "collapsed": true
   }
  },
  {
   "cell_type": "code",
   "execution_count": 48,
   "source": [
    "# Check\r\n",
    "blackjack(9,9,11)"
   ],
   "outputs": [
    {
     "output_type": "execute_result",
     "data": {
      "text/plain": [
       "19"
      ]
     },
     "metadata": {},
     "execution_count": 48
    }
   ],
   "metadata": {
    "collapsed": true
   }
  },
  {
   "cell_type": "markdown",
   "source": [
    "#### SUMMER OF '69: Return the sum of the numbers in the array, except ignore sections of numbers starting with a 6 and extending to the next 9 (every 6 will be followed by at least one 9). Return 0 for no numbers.\r\n",
    " \r\n",
    "    summer_69([1, 3, 5]) --> 9\r\n",
    "    summer_69([4, 5, 6, 7, 8, 9]) --> 9\r\n",
    "    summer_69([2, 1, 6, 9, 11]) --> 14"
   ],
   "metadata": {}
  },
  {
   "cell_type": "code",
   "execution_count": 49,
   "source": [
    "def summer_69(arr):\r\n",
    "    while 6 in arr: # while 6 in array\r\n",
    "        idx6 = arr.index(6)\r\n",
    "        idx9 = arr.index(9)\r\n",
    "        del arr[idx6:idx9+1] # delete part of array between index of 6 and index of 9\r\n",
    "        print (arr) # [4, 5, 1, 1, 4, 3]\r\n",
    "    return sum(arr)\r\n",
    "\r\n",
    "    # def summer_69(arr):\r\n",
    "    # total = 0\r\n",
    "    # add = True\r\n",
    "    # for num in arr:\r\n",
    "    #     while add:\r\n",
    "    #         if num != 6:\r\n",
    "    #             total += num\r\n",
    "    #             break\r\n",
    "    #         else:\r\n",
    "    #             add = False\r\n",
    "    #     while not add:\r\n",
    "    #         if num != 9:\r\n",
    "    #             break\r\n",
    "    #         else:\r\n",
    "    #             add = True\r\n",
    "    #             break\r\n",
    "    # return total\r\n"
   ],
   "outputs": [],
   "metadata": {
    "collapsed": true
   }
  },
  {
   "cell_type": "code",
   "execution_count": 50,
   "source": [
    "# Check\r\n",
    "summer_69([1, 3, 5])"
   ],
   "outputs": [
    {
     "output_type": "execute_result",
     "data": {
      "text/plain": [
       "9"
      ]
     },
     "metadata": {},
     "execution_count": 50
    }
   ],
   "metadata": {
    "collapsed": true
   }
  },
  {
   "cell_type": "code",
   "execution_count": 51,
   "source": [
    "# Check\r\n",
    "summer_69([4, 5, 6, 7, 8, 9])"
   ],
   "outputs": [
    {
     "output_type": "stream",
     "name": "stdout",
     "text": [
      "[4, 5]\n"
     ]
    },
    {
     "output_type": "execute_result",
     "data": {
      "text/plain": [
       "9"
      ]
     },
     "metadata": {},
     "execution_count": 51
    }
   ],
   "metadata": {
    "collapsed": true
   }
  },
  {
   "cell_type": "code",
   "execution_count": 52,
   "source": [
    "# Check\r\n",
    "summer_69([2, 1, 6, 9, 11])"
   ],
   "outputs": [
    {
     "output_type": "stream",
     "name": "stdout",
     "text": [
      "[2, 1, 11]\n"
     ]
    },
    {
     "output_type": "execute_result",
     "data": {
      "text/plain": [
       "14"
      ]
     },
     "metadata": {},
     "execution_count": 52
    }
   ],
   "metadata": {
    "collapsed": true
   }
  },
  {
   "cell_type": "markdown",
   "source": [
    "# CHALLENGING PROBLEMS"
   ],
   "metadata": {}
  },
  {
   "cell_type": "markdown",
   "source": [
    "#### SPY GAME: Write a function that takes in a list of integers and returns True if it contains 007 in order\n",
    "\n",
    "     spy_game([1,2,4,0,0,7,5]) --> True\n",
    "     spy_game([1,0,2,4,0,5,7]) --> True\n",
    "     spy_game([1,7,2,0,4,5,0]) --> False\n"
   ],
   "metadata": {}
  },
  {
   "cell_type": "code",
   "execution_count": 85,
   "source": [
    "# def spy_game(nums):\r\n",
    "#     series = []\r\n",
    "#     for num in nums:\r\n",
    "               \r\n",
    "#         if num == 0 or num == 7:\r\n",
    "#             series.append(num)\r\n",
    "\r\n",
    "#     for i in range(len(series)-1):\r\n",
    "#         if series[i-1] == 0 and series[i] == 0 and series[i+1] == 7:\r\n",
    "#             return True\r\n",
    "#     return False\r\n",
    "\r\n",
    "def spy_game(nums):\r\n",
    "\r\n",
    "    code = [0,0,7,'x']\r\n",
    "    \r\n",
    "    for num in nums:\r\n",
    "        if num == code[0]:\r\n",
    "            code.pop(0)   # code.remove(num) also works\r\n",
    "       \r\n",
    "    return len(code) == 1"
   ],
   "outputs": [],
   "metadata": {
    "collapsed": true
   }
  },
  {
   "cell_type": "code",
   "execution_count": 86,
   "source": [
    "# Check\r\n",
    "spy_game([1,2,4,0,0,7,5])"
   ],
   "outputs": [
    {
     "output_type": "execute_result",
     "data": {
      "text/plain": [
       "True"
      ]
     },
     "metadata": {},
     "execution_count": 86
    }
   ],
   "metadata": {
    "collapsed": true
   }
  },
  {
   "cell_type": "code",
   "execution_count": 87,
   "source": [
    "# Check\r\n",
    "spy_game([1,0,2,4,0,5,7])"
   ],
   "outputs": [
    {
     "output_type": "execute_result",
     "data": {
      "text/plain": [
       "True"
      ]
     },
     "metadata": {},
     "execution_count": 87
    }
   ],
   "metadata": {
    "collapsed": true
   }
  },
  {
   "cell_type": "code",
   "execution_count": 88,
   "source": [
    "# Check\r\n",
    "spy_game([1,7,2,0,4,5,0])"
   ],
   "outputs": [
    {
     "output_type": "execute_result",
     "data": {
      "text/plain": [
       "False"
      ]
     },
     "metadata": {},
     "execution_count": 88
    }
   ],
   "metadata": {
    "collapsed": true
   }
  },
  {
   "cell_type": "markdown",
   "source": [
    "#### COUNT PRIMES: Write a function that returns the *number* of prime numbers that exist up to and including a given number\n",
    "    count_primes(100) --> 25\n",
    "\n",
    "By convention, 0 and 1 are not prime."
   ],
   "metadata": {}
  },
  {
   "cell_type": "code",
   "execution_count": 107,
   "source": [
    "# def count_primes(num):\r\n",
    "#     primes = [False for i in range(num+1)]\r\n",
    "\r\n",
    "#     count = 0\r\n",
    "#     for i in range(2,num):\r\n",
    "#         if primes[i] == False:\r\n",
    "#             count+=1\r\n",
    "#             j = 2\r\n",
    "#             while j*i<num:\r\n",
    "#                 print(j*i)\r\n",
    "#                 primes[j*i] = True\r\n",
    "#                 j+=1\r\n",
    "#     return count\r\n",
    "\r\n",
    "def count_primes(num):\r\n",
    "    primes = [2]\r\n",
    "    x = 3\r\n",
    "    if num < 2:  # for the case of num = 0 or 1\r\n",
    "        return 0\r\n",
    "    while x <= num:\r\n",
    "        for y in range(3,x,2):  # test all odd factors up to x-1\r\n",
    "            if x%y == 0:\r\n",
    "                x += 2\r\n",
    "                break\r\n",
    "        else:\r\n",
    "            primes.append(x)\r\n",
    "            x += 2\r\n",
    "    print(primes)\r\n",
    "    return len(primes)\r\n",
    "                \r\n",
    "# OR\r\n",
    "\r\n",
    "def count_primes2(num):\r\n",
    "    primes = [2]\r\n",
    "    x = 3\r\n",
    "    if num < 2:\r\n",
    "        return 0\r\n",
    "    while x <= num:\r\n",
    "        for y in primes:  # use the primes list!\r\n",
    "            if x%y == 0:\r\n",
    "                x += 2\r\n",
    "                break\r\n",
    "        else:\r\n",
    "            primes.append(x)\r\n",
    "            x += 2\r\n",
    "    print(primes)\r\n",
    "    return len(primes)\r\n",
    "                  "
   ],
   "outputs": [],
   "metadata": {
    "collapsed": true
   }
  },
  {
   "cell_type": "code",
   "execution_count": 108,
   "source": [
    "# Check\r\n",
    "count_primes(2)"
   ],
   "outputs": [
    {
     "output_type": "execute_result",
     "data": {
      "text/plain": [
       "0"
      ]
     },
     "metadata": {},
     "execution_count": 108
    }
   ],
   "metadata": {
    "collapsed": true
   }
  },
  {
   "cell_type": "markdown",
   "source": [
    "### Just for fun:\r\n",
    "#### PRINT BIG: Write a function that takes in a single letter, and returns a 5x5 representation of that letter\r\n",
    "    print_big('a')\r\n",
    "    \r\n",
    "    out:   *  \r\n",
    "          * *\r\n",
    "         *****\r\n",
    "         *   *\r\n",
    "         *   *\r\n",
    "HINT: Consider making a dictionary of possible patterns, and mapping the alphabet to specific 5-line combinations of patterns. <br>For purposes of this exercise, it's ok if your dictionary stops at \"E\"."
   ],
   "metadata": {}
  },
  {
   "cell_type": "code",
   "execution_count": 98,
   "source": [
    "# Eish\r\n",
    "\r\n",
    "def print_big(letter):\r\n",
    "    patterns = {1:'  *  ',2:' * * ',3:'*   *',4:'*****',5:'**** ',6:'   * ',7:' *   ',8:'*   * ',9:'*    '}\r\n",
    "    alphabet = {'A':[1,2,4,3,3],'B':[5,3,5,3,5],'C':[4,9,9,9,4],'D':[5,3,3,3,5],'E':[4,9,4,9,4]}\r\n",
    "    for pattern in alphabet[letter.upper()]:\r\n",
    "        print(patterns[pattern])"
   ],
   "outputs": [],
   "metadata": {
    "collapsed": true
   }
  },
  {
   "cell_type": "code",
   "execution_count": 99,
   "source": [
    "print_big('a')"
   ],
   "outputs": [],
   "metadata": {
    "collapsed": true
   }
  },
  {
   "cell_type": "code",
   "execution_count": null,
   "source": [
    "  *\r\n",
    " * *\r\n",
    "*****\r\n",
    "*   *\r\n",
    "*   *"
   ],
   "outputs": [],
   "metadata": {}
  },
  {
   "cell_type": "markdown",
   "source": [
    "## Great Job!"
   ],
   "metadata": {}
  }
 ],
 "metadata": {
  "kernelspec": {
   "name": "python3",
   "display_name": "Python 3.9.2 64-bit"
  },
  "language_info": {
   "codemirror_mode": {
    "name": "ipython",
    "version": 3
   },
   "file_extension": ".py",
   "mimetype": "text/x-python",
   "name": "python",
   "nbconvert_exporter": "python",
   "pygments_lexer": "ipython3",
   "version": "3.9.2"
  },
  "interpreter": {
   "hash": "a6d57b0299ab3edd5949279386e7c0e88b22871a6df10543cb57f3b5356d52e9"
  }
 },
 "nbformat": 4,
 "nbformat_minor": 2
}